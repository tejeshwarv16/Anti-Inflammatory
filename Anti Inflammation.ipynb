{
 "cells": [
  {
   "cell_type": "code",
   "execution_count": 14,
   "id": "d11fd4ea",
   "metadata": {},
   "outputs": [],
   "source": [
    "import pandas as pd\n",
    "import numpy as np\n",
    "from sklearn.model_selection import train_test_split\n",
    "from sklearn.svm import SVC\n",
    "from sklearn.naive_bayes import GaussianNB, MultinomialNB, BernoulliNB\n",
    "from sklearn.ensemble import RandomForestClassifier\n",
    "from minisom import MiniSom\n",
    "from sklearn.metrics import accuracy_score\n",
    "import matplotlib.pyplot as plt\n"
   ]
  },
  {
   "cell_type": "code",
   "execution_count": 15,
   "id": "69ddc85b",
   "metadata": {},
   "outputs": [],
   "source": [
    "# Replace 'your_file.csv' with the actual file path\n",
    "file_path = 'D:/projects/anti inflammatory/train10k.csv'\n",
    "\n",
    "# Read CSV file into a DataFrame\n",
    "df = pd.read_csv(file_path)"
   ]
  },
  {
   "cell_type": "code",
   "execution_count": 16,
   "id": "baa90dcb",
   "metadata": {},
   "outputs": [
    {
     "name": "stdout",
     "output_type": "stream",
     "text": [
      "Column Datatypes:\n",
      "name         object\n",
      "cls           int64\n",
      "ABC         float64\n",
      "ABCGG       float64\n",
      "nAcid         int64\n",
      "             ...   \n",
      "WPol          int64\n",
      "Zagreb1       int64\n",
      "Zagreb2       int64\n",
      "mZagreb1    float64\n",
      "mZagreb2    float64\n",
      "Length: 1615, dtype: object\n",
      "\n",
      "Datatype Counts:\n",
      "float64    1279\n",
      "int64       335\n",
      "object        1\n",
      "dtype: int64\n",
      "\n",
      "Number of Non-Null Values in Each Column:\n",
      "name        9602\n",
      "cls         9602\n",
      "ABC            0\n",
      "ABCGG          0\n",
      "nAcid       9602\n",
      "            ... \n",
      "WPol        9602\n",
      "Zagreb1     9602\n",
      "Zagreb2     9602\n",
      "mZagreb1    9244\n",
      "mZagreb2    9602\n",
      "Length: 1615, dtype: int64\n"
     ]
    }
   ],
   "source": [
    "# Get column datatypes\n",
    "column_datatypes = df.dtypes\n",
    "\n",
    "# Count occurrences of each datatype\n",
    "datatype_counts = column_datatypes.value_counts()\n",
    "\n",
    "# Print datatype of each column\n",
    "print(\"Column Datatypes:\")\n",
    "print(column_datatypes)\n",
    "\n",
    "# Print count of each datatype\n",
    "print(\"\\nDatatype Counts:\")\n",
    "print(datatype_counts)\n",
    "\n",
    "# Print number of non-null values in each column\n",
    "print(\"\\nNumber of Non-Null Values in Each Column:\")\n",
    "non_null_counts = df.count()\n",
    "print(non_null_counts)"
   ]
  },
  {
   "cell_type": "code",
   "execution_count": 17,
   "id": "ced742dd",
   "metadata": {},
   "outputs": [],
   "source": [
    "# Drop columns with no values\n",
    "df = df.dropna(axis=1, how='all')\n"
   ]
  },
  {
   "cell_type": "code",
   "execution_count": 18,
   "id": "0872ee46",
   "metadata": {},
   "outputs": [
    {
     "name": "stdout",
     "output_type": "stream",
     "text": [
      "Column Datatypes:\n",
      "name         object\n",
      "cls           int64\n",
      "nAcid         int64\n",
      "nBase         int64\n",
      "SpAbs_A     float64\n",
      "             ...   \n",
      "WPol          int64\n",
      "Zagreb1       int64\n",
      "Zagreb2       int64\n",
      "mZagreb1    float64\n",
      "mZagreb2    float64\n",
      "Length: 1529, dtype: object\n",
      "\n",
      "Datatype Counts:\n",
      "float64    1193\n",
      "int64       335\n",
      "object        1\n",
      "dtype: int64\n",
      "\n",
      "Number of Non-Null Values in Each Column:\n",
      "name        9602\n",
      "cls         9602\n",
      "nAcid       9602\n",
      "nBase       9602\n",
      "SpAbs_A     9118\n",
      "            ... \n",
      "WPol        9602\n",
      "Zagreb1     9602\n",
      "Zagreb2     9602\n",
      "mZagreb1    9244\n",
      "mZagreb2    9602\n",
      "Length: 1529, dtype: int64\n"
     ]
    }
   ],
   "source": [
    "# Get column datatypes\n",
    "column_datatypes = df.dtypes\n",
    "\n",
    "# Count occurrences of each datatype\n",
    "datatype_counts = column_datatypes.value_counts()\n",
    "\n",
    "# Print datatype of each column\n",
    "print(\"Column Datatypes:\")\n",
    "print(column_datatypes)\n",
    "\n",
    "# Print count of each datatype\n",
    "print(\"\\nDatatype Counts:\")\n",
    "print(datatype_counts)\n",
    "\n",
    "# Print number of non-null values in each column\n",
    "print(\"\\nNumber of Non-Null Values in Each Column:\")\n",
    "non_null_counts = df.count()\n",
    "print(non_null_counts)"
   ]
  },
  {
   "cell_type": "code",
   "execution_count": 19,
   "id": "8b4c1bb8",
   "metadata": {},
   "outputs": [],
   "source": [
    "# Set the threshold for non-null values\n",
    "threshold = 9602\n",
    "\n",
    "# Drop columns with fewer than the specified non-null values\n",
    "df = df.dropna(axis=1, thresh=threshold)"
   ]
  },
  {
   "cell_type": "code",
   "execution_count": 20,
   "id": "e7cd83c9",
   "metadata": {},
   "outputs": [
    {
     "name": "stdout",
     "output_type": "stream",
     "text": [
      "Column Datatypes:\n",
      "name          object\n",
      "cls            int64\n",
      "nAcid          int64\n",
      "nBase          int64\n",
      "nAromAtom      int64\n",
      "              ...   \n",
      "WPath        float64\n",
      "WPol           int64\n",
      "Zagreb1        int64\n",
      "Zagreb2        int64\n",
      "mZagreb2     float64\n",
      "Length: 1039, dtype: object\n",
      "\n",
      "Datatype Counts:\n",
      "float64    703\n",
      "int64      335\n",
      "object       1\n",
      "dtype: int64\n",
      "\n",
      "Number of Non-Null Values in Each Column:\n",
      "name         9602\n",
      "cls          9602\n",
      "nAcid        9602\n",
      "nBase        9602\n",
      "nAromAtom    9602\n",
      "             ... \n",
      "WPath        9602\n",
      "WPol         9602\n",
      "Zagreb1      9602\n",
      "Zagreb2      9602\n",
      "mZagreb2     9602\n",
      "Length: 1039, dtype: int64\n"
     ]
    }
   ],
   "source": [
    "# Get column datatypes\n",
    "column_datatypes = df.dtypes\n",
    "\n",
    "# Count occurrences of each datatype\n",
    "datatype_counts = column_datatypes.value_counts()\n",
    "\n",
    "# Print datatype of each column\n",
    "print(\"Column Datatypes:\")\n",
    "print(column_datatypes)\n",
    "\n",
    "# Print count of each datatype\n",
    "print(\"\\nDatatype Counts:\")\n",
    "print(datatype_counts)\n",
    "\n",
    "# Print number of non-null values in each column\n",
    "print(\"\\nNumber of Non-Null Values in Each Column:\")\n",
    "non_null_counts = df.count()\n",
    "print(non_null_counts)"
   ]
  },
  {
   "cell_type": "code",
   "execution_count": 21,
   "id": "793d20dd",
   "metadata": {},
   "outputs": [],
   "source": [
    "# Drop the column named 'name'\n",
    "df = df.drop('name', axis=1)"
   ]
  },
  {
   "cell_type": "code",
   "execution_count": 22,
   "id": "9aa244e0",
   "metadata": {},
   "outputs": [
    {
     "name": "stdout",
     "output_type": "stream",
     "text": [
      "Column Datatypes:\n",
      "cls            int64\n",
      "nAcid          int64\n",
      "nBase          int64\n",
      "nAromAtom      int64\n",
      "nAromBond      int64\n",
      "              ...   \n",
      "WPath        float64\n",
      "WPol           int64\n",
      "Zagreb1        int64\n",
      "Zagreb2        int64\n",
      "mZagreb2     float64\n",
      "Length: 1038, dtype: object\n",
      "\n",
      "Datatype Counts:\n",
      "float64    703\n",
      "int64      335\n",
      "dtype: int64\n",
      "\n",
      "Number of Non-Null Values in Each Column:\n",
      "cls          9602\n",
      "nAcid        9602\n",
      "nBase        9602\n",
      "nAromAtom    9602\n",
      "nAromBond    9602\n",
      "             ... \n",
      "WPath        9602\n",
      "WPol         9602\n",
      "Zagreb1      9602\n",
      "Zagreb2      9602\n",
      "mZagreb2     9602\n",
      "Length: 1038, dtype: int64\n"
     ]
    }
   ],
   "source": [
    "# Get column datatypes\n",
    "column_datatypes = df.dtypes\n",
    "\n",
    "# Count occurrences of each datatype\n",
    "datatype_counts = column_datatypes.value_counts()\n",
    "\n",
    "# Print datatype of each column\n",
    "print(\"Column Datatypes:\")\n",
    "print(column_datatypes)\n",
    "\n",
    "# Print count of each datatype\n",
    "print(\"\\nDatatype Counts:\")\n",
    "print(datatype_counts)\n",
    "\n",
    "# Print number of non-null values in each column\n",
    "print(\"\\nNumber of Non-Null Values in Each Column:\")\n",
    "non_null_counts = df.count()\n",
    "print(non_null_counts)"
   ]
  },
  {
   "cell_type": "code",
   "execution_count": 23,
   "id": "6ab252bd",
   "metadata": {},
   "outputs": [],
   "source": [
    "# Convert columns of data type int64 to float64\n",
    "int_columns = df.select_dtypes(include='int64').columns\n",
    "df[int_columns] = df[int_columns].astype('float64')"
   ]
  },
  {
   "cell_type": "code",
   "execution_count": 24,
   "id": "854f4a7e",
   "metadata": {},
   "outputs": [
    {
     "name": "stdout",
     "output_type": "stream",
     "text": [
      "Column Datatypes:\n",
      "cls          float64\n",
      "nAcid        float64\n",
      "nBase        float64\n",
      "nAromAtom    float64\n",
      "nAromBond    float64\n",
      "              ...   \n",
      "WPath        float64\n",
      "WPol         float64\n",
      "Zagreb1      float64\n",
      "Zagreb2      float64\n",
      "mZagreb2     float64\n",
      "Length: 1038, dtype: object\n",
      "\n",
      "Datatype Counts:\n",
      "float64    1038\n",
      "dtype: int64\n",
      "\n",
      "Number of Non-Null Values in Each Column:\n",
      "cls          9602\n",
      "nAcid        9602\n",
      "nBase        9602\n",
      "nAromAtom    9602\n",
      "nAromBond    9602\n",
      "             ... \n",
      "WPath        9602\n",
      "WPol         9602\n",
      "Zagreb1      9602\n",
      "Zagreb2      9602\n",
      "mZagreb2     9602\n",
      "Length: 1038, dtype: int64\n"
     ]
    }
   ],
   "source": [
    "# Get column datatypes\n",
    "column_datatypes = df.dtypes\n",
    "\n",
    "# Count occurrences of each datatype\n",
    "datatype_counts = column_datatypes.value_counts()\n",
    "\n",
    "# Print datatype of each column\n",
    "print(\"Column Datatypes:\")\n",
    "print(column_datatypes)\n",
    "\n",
    "# Print count of each datatype\n",
    "print(\"\\nDatatype Counts:\")\n",
    "print(datatype_counts)\n",
    "\n",
    "# Print number of non-null values in each column\n",
    "print(\"\\nNumber of Non-Null Values in Each Column:\")\n",
    "non_null_counts = df.count()\n",
    "print(non_null_counts)"
   ]
  },
  {
   "cell_type": "code",
   "execution_count": 25,
   "id": "7e444cab",
   "metadata": {},
   "outputs": [],
   "source": [
    "# Use the last column as the target variable\n",
    "y = df.iloc[:, -1]\n",
    "y = pd.cut(y, bins=2, labels=False)\n",
    "# Use all other columns as features (X)\n",
    "X = df.iloc[:, :-1]\n",
    "\n",
    "# Split the dataset into training and testing sets\n",
    "X_train, X_test, y_train, y_test = train_test_split(X, y, test_size=0.2, random_state=42)\n"
   ]
  },
  {
   "cell_type": "code",
   "execution_count": 26,
   "id": "1d838bdc",
   "metadata": {},
   "outputs": [
    {
     "name": "stdout",
     "output_type": "stream",
     "text": [
      "Accuracy: 99.32%\n"
     ]
    }
   ],
   "source": [
    "# Create a quadratic SVM model\n",
    "svm_model = SVC(kernel='poly', degree=2)\n",
    "\n",
    "# Train the model on the training set\n",
    "svm_model.fit(X_train, y_train)\n",
    "\n",
    "# Make predictions on the test set\n",
    "y_pred = svm_model.predict(X_test)\n",
    "\n",
    "# Evaluate the accuracy of the model\n",
    "accuracy = accuracy_score(y_test, y_pred)\n",
    "print(f\"Accuracy: {accuracy * 100:.2f}%\")"
   ]
  },
  {
   "cell_type": "code",
   "execution_count": 27,
   "id": "b20056f9",
   "metadata": {},
   "outputs": [
    {
     "name": "stdout",
     "output_type": "stream",
     "text": [
      "Gaussian Naive Bayes Accuracy: 96.41%\n"
     ]
    }
   ],
   "source": [
    "# Train Gaussian Naive Bayes\n",
    "gnb = GaussianNB()\n",
    "gnb.fit(X_train, y_train)\n",
    "y_pred_gnb = gnb.predict(X_test)\n",
    "accuracy_gnb = accuracy_score(y_test, y_pred_gnb)\n",
    "print(f\"Gaussian Naive Bayes Accuracy: {accuracy_gnb * 100:.2f}%\")"
   ]
  },
  {
   "cell_type": "code",
   "execution_count": 28,
   "id": "e70b0c05",
   "metadata": {},
   "outputs": [
    {
     "ename": "ValueError",
     "evalue": "Negative values in data passed to MultinomialNB (input X)",
     "output_type": "error",
     "traceback": [
      "\u001b[1;31m---------------------------------------------------------------------------\u001b[0m",
      "\u001b[1;31mValueError\u001b[0m                                Traceback (most recent call last)",
      "Cell \u001b[1;32mIn[28], line 3\u001b[0m\n\u001b[0;32m      1\u001b[0m \u001b[38;5;66;03m# Train Multinomial Naive Bayes\u001b[39;00m\n\u001b[0;32m      2\u001b[0m mnb \u001b[38;5;241m=\u001b[39m MultinomialNB()\n\u001b[1;32m----> 3\u001b[0m mnb\u001b[38;5;241m.\u001b[39mfit(X_train, y_train)\n\u001b[0;32m      4\u001b[0m y_pred_mnb \u001b[38;5;241m=\u001b[39m mnb\u001b[38;5;241m.\u001b[39mpredict(X_test)\n\u001b[0;32m      5\u001b[0m accuracy_mnb \u001b[38;5;241m=\u001b[39m accuracy_score(y_test, y_pred_mnb)\n",
      "File \u001b[1;32m~\\anaconda3\\Lib\\site-packages\\sklearn\\naive_bayes.py:776\u001b[0m, in \u001b[0;36m_BaseDiscreteNB.fit\u001b[1;34m(self, X, y, sample_weight)\u001b[0m\n\u001b[0;32m    774\u001b[0m n_classes \u001b[38;5;241m=\u001b[39m Y\u001b[38;5;241m.\u001b[39mshape[\u001b[38;5;241m1\u001b[39m]\n\u001b[0;32m    775\u001b[0m \u001b[38;5;28mself\u001b[39m\u001b[38;5;241m.\u001b[39m_init_counters(n_classes, n_features)\n\u001b[1;32m--> 776\u001b[0m \u001b[38;5;28mself\u001b[39m\u001b[38;5;241m.\u001b[39m_count(X, Y)\n\u001b[0;32m    777\u001b[0m alpha \u001b[38;5;241m=\u001b[39m \u001b[38;5;28mself\u001b[39m\u001b[38;5;241m.\u001b[39m_check_alpha()\n\u001b[0;32m    778\u001b[0m \u001b[38;5;28mself\u001b[39m\u001b[38;5;241m.\u001b[39m_update_feature_log_prob(alpha)\n",
      "File \u001b[1;32m~\\anaconda3\\Lib\\site-packages\\sklearn\\naive_bayes.py:898\u001b[0m, in \u001b[0;36mMultinomialNB._count\u001b[1;34m(self, X, Y)\u001b[0m\n\u001b[0;32m    896\u001b[0m \u001b[38;5;28;01mdef\u001b[39;00m \u001b[38;5;21m_count\u001b[39m(\u001b[38;5;28mself\u001b[39m, X, Y):\n\u001b[0;32m    897\u001b[0m \u001b[38;5;250m    \u001b[39m\u001b[38;5;124;03m\"\"\"Count and smooth feature occurrences.\"\"\"\u001b[39;00m\n\u001b[1;32m--> 898\u001b[0m     check_non_negative(X, \u001b[38;5;124m\"\u001b[39m\u001b[38;5;124mMultinomialNB (input X)\u001b[39m\u001b[38;5;124m\"\u001b[39m)\n\u001b[0;32m    899\u001b[0m     \u001b[38;5;28mself\u001b[39m\u001b[38;5;241m.\u001b[39mfeature_count_ \u001b[38;5;241m+\u001b[39m\u001b[38;5;241m=\u001b[39m safe_sparse_dot(Y\u001b[38;5;241m.\u001b[39mT, X)\n\u001b[0;32m    900\u001b[0m     \u001b[38;5;28mself\u001b[39m\u001b[38;5;241m.\u001b[39mclass_count_ \u001b[38;5;241m+\u001b[39m\u001b[38;5;241m=\u001b[39m Y\u001b[38;5;241m.\u001b[39msum(axis\u001b[38;5;241m=\u001b[39m\u001b[38;5;241m0\u001b[39m)\n",
      "File \u001b[1;32m~\\anaconda3\\Lib\\site-packages\\sklearn\\utils\\validation.py:1418\u001b[0m, in \u001b[0;36mcheck_non_negative\u001b[1;34m(X, whom)\u001b[0m\n\u001b[0;32m   1415\u001b[0m     X_min \u001b[38;5;241m=\u001b[39m xp\u001b[38;5;241m.\u001b[39mmin(X)\n\u001b[0;32m   1417\u001b[0m \u001b[38;5;28;01mif\u001b[39;00m X_min \u001b[38;5;241m<\u001b[39m \u001b[38;5;241m0\u001b[39m:\n\u001b[1;32m-> 1418\u001b[0m     \u001b[38;5;28;01mraise\u001b[39;00m \u001b[38;5;167;01mValueError\u001b[39;00m(\u001b[38;5;124m\"\u001b[39m\u001b[38;5;124mNegative values in data passed to \u001b[39m\u001b[38;5;132;01m%s\u001b[39;00m\u001b[38;5;124m\"\u001b[39m \u001b[38;5;241m%\u001b[39m whom)\n",
      "\u001b[1;31mValueError\u001b[0m: Negative values in data passed to MultinomialNB (input X)"
     ]
    }
   ],
   "source": [
    "# Train Multinomial Naive Bayes\n",
    "mnb = MultinomialNB()\n",
    "mnb.fit(X_train, y_train)\n",
    "y_pred_mnb = mnb.predict(X_test)\n",
    "accuracy_mnb = accuracy_score(y_test, y_pred_mnb)\n",
    "print(f\"Multinomial Naive Bayes Accuracy: {accuracy_mnb * 100:.2f}%\")\n"
   ]
  },
  {
   "cell_type": "code",
   "execution_count": 29,
   "id": "f89e4446",
   "metadata": {},
   "outputs": [
    {
     "name": "stdout",
     "output_type": "stream",
     "text": [
      "Bernoulli Naive Bayes Accuracy: 99.06%\n"
     ]
    }
   ],
   "source": [
    "# Train Bernoulli Naive Bayes\n",
    "bnb = BernoulliNB()\n",
    "bnb.fit(X_train, y_train)\n",
    "y_pred_bnb = bnb.predict(X_test)\n",
    "accuracy_bnb = accuracy_score(y_test, y_pred_bnb)\n",
    "print(f\"Bernoulli Naive Bayes Accuracy: {accuracy_bnb * 100:.2f}%\")\n",
    "\n"
   ]
  },
  {
   "cell_type": "code",
   "execution_count": 30,
   "id": "1e34598d",
   "metadata": {},
   "outputs": [
    {
     "name": "stdout",
     "output_type": "stream",
     "text": [
      "Random Forest Accuracy: 99.95%\n"
     ]
    }
   ],
   "source": [
    "# Create a Random Forest classifier\n",
    "rf_classifier = RandomForestClassifier(n_estimators=100, random_state=42)\n",
    "\n",
    "# Train the classifier on the training set\n",
    "rf_classifier.fit(X_train, y_train)\n",
    "\n",
    "# Make predictions on the test set\n",
    "y_pred_rf = rf_classifier.predict(X_test)\n",
    "\n",
    "# Evaluate the accuracy of the model\n",
    "accuracy_rf = accuracy_score(y_test, y_pred_rf)\n",
    "print(f\"Random Forest Accuracy: {accuracy_rf * 100:.2f}%\")\n"
   ]
  },
  {
   "cell_type": "code",
   "execution_count": 31,
   "id": "59d70f61",
   "metadata": {},
   "outputs": [
    {
     "name": "stdout",
     "output_type": "stream",
     "text": [
      "Cluster Assignments:\n",
      "[[0 0]\n",
      " [0 0]\n",
      " [4 4]\n",
      " ...\n",
      " [1 4]\n",
      " [1 4]\n",
      " [0 3]]\n"
     ]
    }
   ],
   "source": [
    "# Use all columns as features (X)\n",
    "X = df.values\n",
    "\n",
    "# Check for constant features and remove them\n",
    "constant_columns = np.where(np.max(X, axis=0) == np.min(X, axis=0))[0]\n",
    "X = np.delete(X, constant_columns, axis=1)\n",
    "\n",
    "# Normalize the data, handling possible division by zero\n",
    "X_normalized = (X - np.min(X, axis=0)) / np.where((np.max(X, axis=0) - np.min(X, axis=0)) == 0, 1, (np.max(X, axis=0) - np.min(X, axis=0)))\n",
    "\n",
    "# Specify the size of the SOM grid (e.g., 5x5)\n",
    "som_grid_size = (5, 5)\n",
    "\n",
    "# Create a SOM\n",
    "som = MiniSom(som_grid_size[0], som_grid_size[1], X.shape[1], sigma=0.3, learning_rate=0.5)\n",
    "\n",
    "# Initialize weights\n",
    "som.random_weights_init(X_normalized)\n",
    "\n",
    "# Train the SOM\n",
    "num_epochs = 100\n",
    "som.train_random(X_normalized, num_epochs)\n",
    "\n",
    "# You can now use the trained SOM for various tasks, such as visualization or clustering\n",
    "# For example, you can obtain the cluster assignments for each data point:\n",
    "cluster_assignments = np.array([som.winner(x) for x in X_normalized])\n",
    "\n",
    "# Print the cluster assignments\n",
    "print(\"Cluster Assignments:\")\n",
    "print(cluster_assignments)"
   ]
  },
  {
   "cell_type": "code",
   "execution_count": 32,
   "id": "c357f7b4",
   "metadata": {},
   "outputs": [
    {
     "name": "stdout",
     "output_type": "stream",
     "text": [
      "Quantization Error: 2.6614308987336064\n",
      "Topographic Error: 0.7789002291189335\n"
     ]
    }
   ],
   "source": [
    "qe = som.quantization_error(X_normalized)\n",
    "print(f\"Quantization Error: {qe}\")\n",
    "\n",
    "te = som.topographic_error(X_normalized)\n",
    "print(f\"Topographic Error: {te}\")\n"
   ]
  },
  {
   "cell_type": "code",
   "execution_count": 33,
   "id": "24ef4880",
   "metadata": {},
   "outputs": [
    {
     "data": {
      "image/png": "[encoded data removed]",
      "text/plain": [
       "<Figure size 800x800 with 2 Axes>"
      ]
     },
     "metadata": {},
     "output_type": "display_data"
    }
   ],
   "source": [
    "# Obtain the U-Matrix\n",
    "u_matrix = som.distance_map()\n",
    "\n",
    "# Plot the U-Matrix\n",
    "plt.figure(figsize=(8, 8))\n",
    "plt.pcolor(u_matrix, cmap='viridis', edgecolors='k', linewidths=0.1)\n",
    "plt.colorbar()\n",
    "\n",
    "# Add markers for each data point\n",
    "for i, j in enumerate(cluster_assignments):\n",
    "    plt.text(j[1] + 0.5, j[0] + 0.5, str(i + 1), color='red', ha='center', va='center', fontsize=8)\n",
    "\n",
    "plt.title('SOM U-Matrix with Data Points')\n",
    "plt.show()"
   ]
  },
  {
   "cell_type": "code",
   "execution_count": null,
   "id": "583b872f",
   "metadata": {},
   "outputs": [],
   "source": []
  }
 ],
 "metadata": {
  "kernelspec": {
   "display_name": "Python 3 (ipykernel)",
   "language": "python",
   "name": "python3"
  },
  "language_info": {
   "codemirror_mode": {
    "name": "ipython",
    "version": 3
   },
   "file_extension": ".py",
   "mimetype": "text/x-python",
   "name": "python",
   "nbconvert_exporter": "python",
   "pygments_lexer": "ipython3",
   "version": "3.11.3"
  }
 },
 "nbformat": 4,
 "nbformat_minor": 5
}
